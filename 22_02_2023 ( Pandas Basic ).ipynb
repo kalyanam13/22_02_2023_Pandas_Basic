{
 "cells": [
  {
   "cell_type": "markdown",
   "id": "9ac37160",
   "metadata": {},
   "source": [
    "# PW SKILLS"
   ]
  },
  {
   "cell_type": "markdown",
   "id": "e5a65a78",
   "metadata": {},
   "source": [
    "## Assignment Questions :\n"
   ]
  },
  {
   "cell_type": "markdown",
   "id": "f55c14d5",
   "metadata": {},
   "source": [
    "### Q1. Create a Pandas Series that contains the following data: 4, 8, 15, 16, 23, and 42. Then, print the series.\n",
    "### Answer :"
   ]
  },
  {
   "cell_type": "code",
   "execution_count": 1,
   "id": "eb23c4ce",
   "metadata": {},
   "outputs": [
    {
     "name": "stdout",
     "output_type": "stream",
     "text": [
      "0     4\n",
      "1     8\n",
      "2    15\n",
      "3    16\n",
      "4    23\n",
      "5    42\n",
      "dtype: int64\n"
     ]
    }
   ],
   "source": [
    "import pandas as pd\n",
    "\n",
    "data = [4, 8, 15, 16, 23, 42]\n",
    "series = pd.Series(data)\n",
    "\n",
    "print(series)\n"
   ]
  },
  {
   "cell_type": "markdown",
   "id": "b6d5a662",
   "metadata": {},
   "source": [
    "### Q2. Create a variable of list type containing 10 elements in it, and apply pandas.Series function on the \n",
    "### variable print it.\n",
    "### Answer :"
   ]
  },
  {
   "cell_type": "code",
   "execution_count": 2,
   "id": "36d7db18",
   "metadata": {},
   "outputs": [
    {
     "name": "stdout",
     "output_type": "stream",
     "text": [
      "0     1\n",
      "1     2\n",
      "2     3\n",
      "3     4\n",
      "4     5\n",
      "5     6\n",
      "6     7\n",
      "7     8\n",
      "8     9\n",
      "9    10\n",
      "dtype: int64\n"
     ]
    }
   ],
   "source": [
    "import pandas as pd\n",
    "\n",
    "my_list = [1, 2, 3, 4, 5, 6, 7, 8, 9, 10]\n",
    "\n",
    "series_from_list = pd.Series(my_list)\n",
    "\n",
    "print(series_from_list)\n"
   ]
  },
  {
   "cell_type": "markdown",
   "id": "73393359",
   "metadata": {},
   "source": [
    "### Q3. Create a Pandas DataFrame that contains the following data:\n",
    "### Name   Age   Gender\n",
    "\n",
    "### Alice     25     Female\n",
    "### Bob      30      Male\n",
    "### Claire   27      Female\n",
    "\n",
    "### Then, print the DataFrame.\n",
    "### Answer :"
   ]
  },
  {
   "cell_type": "code",
   "execution_count": 3,
   "id": "8827f7c1",
   "metadata": {},
   "outputs": [
    {
     "name": "stdout",
     "output_type": "stream",
     "text": [
      "     Name  Age  Gender\n",
      "0   Alice   25  Female\n",
      "1     Bob   30    Male\n",
      "2  Claire   27  Female\n"
     ]
    }
   ],
   "source": [
    "import pandas as pd\n",
    "\n",
    "data = {'Name': ['Alice', 'Bob', 'Claire'],\n",
    "        'Age': [25, 30, 27],\n",
    "        'Gender': ['Female', 'Male', 'Female']}\n",
    "\n",
    "df = pd.DataFrame(data)\n",
    "\n",
    "print(df)\n"
   ]
  },
  {
   "cell_type": "markdown",
   "id": "fb4ae4bd",
   "metadata": {},
   "source": [
    "### Q4. What is ‘DataFrame’ in pandas and how is it different from pandas.series? Explain with an example.\n",
    "### Answer :"
   ]
  },
  {
   "cell_type": "markdown",
   "id": "667c9f6a",
   "metadata": {},
   "source": [
    "### In Pandas, a DataFrame is a two-dimensional, tabular data structure that is similar to a spreadsheet or a SQL table. It consists of rows and columns, where each column can have a different data type. DataFrames are particularly useful for working with heterogeneous and labeled data.\n",
    "\n",
    "### On the other hand, a Series is a one-dimensional array-like object in Pandas. It can be thought of as a single column of a DataFrame. A DataFrame is essentially a collection of Series, where each column of the DataFrame is a Series.\n",
    "\n",
    "### Here's a simple example to illustrate the difference:"
   ]
  },
  {
   "cell_type": "code",
   "execution_count": 4,
   "id": "30df4627",
   "metadata": {},
   "outputs": [
    {
     "name": "stdout",
     "output_type": "stream",
     "text": [
      "DataFrame:\n",
      "     Name  Age  Gender\n",
      "0   Alice   25  Female\n",
      "1     Bob   30    Male\n",
      "2  Claire   27  Female\n",
      "\n",
      "Series:\n",
      "0    25\n",
      "1    30\n",
      "2    27\n",
      "Name: Age, dtype: int64\n"
     ]
    }
   ],
   "source": [
    "import pandas as pd\n",
    "\n",
    "# Creating a DataFrame\n",
    "data = {'Name': ['Alice', 'Bob', 'Claire'],\n",
    "        'Age': [25, 30, 27],\n",
    "        'Gender': ['Female', 'Male', 'Female']}\n",
    "\n",
    "df = pd.DataFrame(data)\n",
    "\n",
    "# Creating a Series\n",
    "ages = pd.Series([25, 30, 27], name='Age')\n",
    "\n",
    "# Print DataFrame and Series\n",
    "print(\"DataFrame:\")\n",
    "print(df)\n",
    "print(\"\\nSeries:\")\n",
    "print(ages)\n"
   ]
  },
  {
   "cell_type": "markdown",
   "id": "d8272612",
   "metadata": {},
   "source": [
    "### In this example, df is a DataFrame with columns 'Name', 'Age', and 'Gender', each represented as a Series. The ages Series is extracted from the DataFrame and contains only the 'Age' column. The key difference is that a DataFrame is a two-dimensional structure, while a Series is one-dimensional.\n",
    "\n",
    "\n",
    "\n",
    "\n",
    "\n"
   ]
  },
  {
   "cell_type": "markdown",
   "id": "3344b3e8",
   "metadata": {},
   "source": [
    "### Q5. What are some common functions you can use to manipulate data in a Pandas DataFrame? Can \n",
    "### you give an example of when you might use one of these functions?\n",
    "### Answer :"
   ]
  },
  {
   "cell_type": "markdown",
   "id": "543c97bf",
   "metadata": {},
   "source": [
    "### Pandas provides a wide range of functions to manipulate data in a DataFrame. Some common functions include:\n",
    "\n",
    "### 1. head() and tail(): Display the first or last n rows of the DataFrame."
   ]
  },
  {
   "cell_type": "code",
   "execution_count": null,
   "id": "f776aad1",
   "metadata": {},
   "outputs": [],
   "source": [
    "df.head(3)  # Display the first 3 rows\n"
   ]
  },
  {
   "cell_type": "markdown",
   "id": "42d082fb",
   "metadata": {},
   "source": [
    "### 2. info(): Display a concise summary of the DataFrame, including the data types and missing values."
   ]
  },
  {
   "cell_type": "code",
   "execution_count": null,
   "id": "3c566642",
   "metadata": {},
   "outputs": [],
   "source": [
    "df.info()\n"
   ]
  },
  {
   "cell_type": "markdown",
   "id": "dcadea34",
   "metadata": {},
   "source": [
    "### 3. describe(): Generate descriptive statistics of the DataFrame, such as count, mean, std deviation, min, and max."
   ]
  },
  {
   "cell_type": "code",
   "execution_count": null,
   "id": "eedc6f24",
   "metadata": {},
   "outputs": [],
   "source": [
    "df.describe()\n"
   ]
  },
  {
   "cell_type": "markdown",
   "id": "30c314aa",
   "metadata": {},
   "source": [
    "### 4. loc[] and iloc[]: Access a group of rows and columns by label (loc) or integer index (iloc)."
   ]
  },
  {
   "cell_type": "code",
   "execution_count": null,
   "id": "41a436d7",
   "metadata": {},
   "outputs": [],
   "source": [
    "df.loc[0]   # Access the first row\n",
    "df.iloc[:, 1]   # Access the second column\n"
   ]
  },
  {
   "cell_type": "markdown",
   "id": "f9d4c771",
   "metadata": {},
   "source": [
    "### 5. drop(): Remove specified labels from rows or columns."
   ]
  },
  {
   "cell_type": "code",
   "execution_count": null,
   "id": "8d376610",
   "metadata": {},
   "outputs": [],
   "source": [
    "df.drop('Age', axis=1, inplace=True)  # Remove the 'Age' column\n"
   ]
  },
  {
   "cell_type": "markdown",
   "id": "cd884bea",
   "metadata": {},
   "source": [
    "### 6. set_index() and reset_index(): Set the DataFrame index (set_index) or reset it to the default integer index (reset_index)."
   ]
  },
  {
   "cell_type": "code",
   "execution_count": null,
   "id": "661bdba7",
   "metadata": {},
   "outputs": [],
   "source": [
    "df.set_index('Name', inplace=True)  # Set 'Name' column as index\n",
    "df.reset_index(inplace=True)  # Reset index to default\n"
   ]
  },
  {
   "cell_type": "markdown",
   "id": "da2b6de4",
   "metadata": {},
   "source": [
    "### 7. filter(): Subset the DataFrame based on conditions."
   ]
  },
  {
   "cell_type": "code",
   "execution_count": null,
   "id": "071af122",
   "metadata": {},
   "outputs": [],
   "source": [
    "females = df[df['Gender'] == 'Female']  # Get rows where Gender is 'Female'\n"
   ]
  },
  {
   "cell_type": "markdown",
   "id": "c6807505",
   "metadata": {},
   "source": [
    "### 8. groupby(): Group rows based on a column and perform aggregate functions."
   ]
  },
  {
   "cell_type": "code",
   "execution_count": null,
   "id": "940a59b7",
   "metadata": {},
   "outputs": [],
   "source": [
    "gender_group = df.groupby('Gender').mean()  # Calculate mean for each gender group\n"
   ]
  },
  {
   "cell_type": "markdown",
   "id": "1f7d286b",
   "metadata": {},
   "source": [
    "### 9. sort_values(): Sort the DataFrame by specified columns."
   ]
  },
  {
   "cell_type": "code",
   "execution_count": null,
   "id": "70162467",
   "metadata": {},
   "outputs": [],
   "source": [
    "df.sort_values(by='Age', ascending=False, inplace=True)  # Sort by 'Age' in descending order\n"
   ]
  },
  {
   "cell_type": "markdown",
   "id": "aa7b2b62",
   "metadata": {},
   "source": [
    "### 10. merge(): Merge two DataFrames based on a common column."
   ]
  },
  {
   "cell_type": "code",
   "execution_count": null,
   "id": "587bee88",
   "metadata": {},
   "outputs": [],
   "source": [
    "df1 = pd.DataFrame({'Name': ['Alice', 'Bob'], 'Score': [90, 85]})\n",
    "merged_df = pd.merge(df, df1, on='Name')  # Merge based on 'Name' column\n"
   ]
  },
  {
   "cell_type": "markdown",
   "id": "9dbe5338",
   "metadata": {},
   "source": [
    "### These are just a few examples of the many functions available in Pandas for data manipulation."
   ]
  },
  {
   "cell_type": "markdown",
   "id": "522e3436",
   "metadata": {},
   "source": [
    "### Q6. Which of the following is mutable in nature Series, DataFrame, Panel?\n",
    "### Answer : In Pandas:\n",
    "\n",
    "### Series is mutable. You can modify elements, add new elements, or remove existing elements from a Series after it has been created.\n",
    "\n",
    "### DataFrame is also mutable. You can modify values, add or remove columns, and perform various operations on the DataFrame.\n",
    "\n",
    "### Panel is deprecated in recent versions of Pandas, and you are encouraged to use MultiIndex DataFrames instead. If you are dealing with three-dimensional data, MultiIndex DataFrames provide similar functionality. Like DataFrames and Series, MultiIndex DataFrames are mutable.\n",
    "\n",
    "### In summary, both Series and DataFrame are mutable in nature, but Panels are deprecated, and it's recommended to use MultiIndex DataFrames instead."
   ]
  },
  {
   "cell_type": "markdown",
   "id": "65f59552",
   "metadata": {},
   "source": [
    "### Q7. Create a DataFrame using multiple Series. Explain with an example.\n",
    "### Answer : We can create a DataFrame using multiple Series by combining them into a dictionary where the keys are the column names, and the values are the Series. Here's an example:"
   ]
  },
  {
   "cell_type": "code",
   "execution_count": 5,
   "id": "bc2660f5",
   "metadata": {},
   "outputs": [
    {
     "name": "stdout",
     "output_type": "stream",
     "text": [
      "     Name  Age  Gender\n",
      "0   Alice   25  Female\n",
      "1     Bob   30    Male\n",
      "2  Claire   27  Female\n"
     ]
    }
   ],
   "source": [
    "import pandas as pd\n",
    "\n",
    "# Creating multiple Series\n",
    "names = pd.Series(['Alice', 'Bob', 'Claire'])\n",
    "ages = pd.Series([25, 30, 27])\n",
    "genders = pd.Series(['Female', 'Male', 'Female'])\n",
    "\n",
    "# Creating a DataFrame using multiple Series\n",
    "data = {'Name': names, 'Age': ages, 'Gender': genders}\n",
    "df = pd.DataFrame(data)\n",
    "\n",
    "# Printing the DataFrame\n",
    "print(df)\n"
   ]
  },
  {
   "cell_type": "markdown",
   "id": "14f7c28c",
   "metadata": {},
   "source": [
    "### In this example, three Series (names, ages, and genders) are created, and then a DataFrame (df) is created by combining these Series into a dictionary. Each Series becomes a column in the DataFrame, and the keys of the dictionary become the column names. The resulting DataFrame has columns 'Name', 'Age', and 'Gender'."
   ]
  },
  {
   "cell_type": "code",
   "execution_count": null,
   "id": "aef1e3b3",
   "metadata": {},
   "outputs": [],
   "source": []
  },
  {
   "cell_type": "code",
   "execution_count": null,
   "id": "66c9a20c",
   "metadata": {},
   "outputs": [],
   "source": []
  },
  {
   "cell_type": "code",
   "execution_count": null,
   "id": "e43098f4",
   "metadata": {},
   "outputs": [],
   "source": []
  },
  {
   "cell_type": "code",
   "execution_count": null,
   "id": "1e5ae8a3",
   "metadata": {},
   "outputs": [],
   "source": []
  },
  {
   "cell_type": "code",
   "execution_count": null,
   "id": "e7684917",
   "metadata": {},
   "outputs": [],
   "source": []
  }
 ],
 "metadata": {
  "kernelspec": {
   "display_name": "Python 3 (ipykernel)",
   "language": "python",
   "name": "python3"
  },
  "language_info": {
   "codemirror_mode": {
    "name": "ipython",
    "version": 3
   },
   "file_extension": ".py",
   "mimetype": "text/x-python",
   "name": "python",
   "nbconvert_exporter": "python",
   "pygments_lexer": "ipython3",
   "version": "3.9.13"
  }
 },
 "nbformat": 4,
 "nbformat_minor": 5
}
